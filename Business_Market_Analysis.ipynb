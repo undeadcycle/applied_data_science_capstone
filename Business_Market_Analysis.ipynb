{
 "cells": [
  {
   "cell_type": "markdown",
   "metadata": {
    "id": "Ncu5O6Chlz3i"
   },
   "source": [
    "# Business Market Analysis\n",
    "___"
   ]
  },
  {
   "cell_type": "markdown",
   "metadata": {
    "id": "RjQwTq90lz3m"
   },
   "source": [
    "## Introduction / Business Problem"
   ]
  },
  {
   "cell_type": "markdown",
   "metadata": {
    "id": "AvJ31dExlz3n"
   },
   "source": [
    "This analysis is meant to help a business venture choose between two locations. Specifically we will look at a Mexican retaraunt in Los Angeles. Finding a neighborhood that is not saturated with other Mexican restaunts would be ideal."
   ]
  },
  {
   "cell_type": "markdown",
   "metadata": {
    "id": "Zvrcp1bilz3n"
   },
   "source": [
    "## Data"
   ]
  },
  {
   "cell_type": "markdown",
   "metadata": {
    "id": "szN15F_2lz3n"
   },
   "source": [
    "looking for market trends over multiple time series\n",
    "* which neighborhoods have the fewest restauraunts\n",
    "* number of current restaraunts and if the is an increse or decrease from previous periods\n",
    "* an up and coming neghborhood would be fantastic\n",
    "* Is the number of venues increasing or decreasing?\n",
    "* Is the average rating for venues increasing or decreasing\n",
    "* Can we pull census data to show population increase or decrease?\n",
    "* Can we pull crime data in time series?\n",
    "* Can we pull employment data time series?"
   ]
  },
  {
   "cell_type": "code",
   "execution_count": null,
   "metadata": {
    "id": "2a4-o3_umSnS"
   },
   "outputs": [],
   "source": [
    "# Common imports I may need; will uncomment, add, etc as needed\n",
    "import numpy as np\n",
    "import pandas as pd\n",
    "import folium\n",
    "#from sklearn.cluster import KMeans\n",
    "#import matplotlib.cm as cm\n",
    "#import matplotlib.colors as colors\n",
    "#import requests\n",
    "#import urllib.request\n",
    "#from urllib.request import urlopen\n",
    "#import time\n",
    "#from bs4 import BeautifulSoup"
   ]
  },
  {
   "cell_type": "markdown",
   "metadata": {
    "id": "q4w3NDS5mhRt"
   },
   "source": [
    "<div class=\"alert alert-block alert-danger\">\n",
    "<b>Delete this cell before publishing\n",
    "</div>\n",
    "\n"
   ]
  },
  {
   "cell_type": "code",
   "execution_count": null,
   "metadata": {
    "id": "q3a08NBlmp_b"
   },
   "outputs": [],
   "source": []
  },
  {
   "cell_type": "markdown",
   "metadata": {
    "id": "5fl1CZonmuCa"
   },
   "source": [
    "### scrape for list of neighborhoods in LA\n"
   ]
  },
  {
   "cell_type": "markdown",
   "metadata": {},
   "source": [
    "Population heatmaps would be a good source of data\n",
    "* total population\n",
    "* number of Mexican restaraunts"
   ]
  },
  {
   "cell_type": "code",
   "execution_count": null,
   "metadata": {
    "id": "YMDVV8rSmwSS"
   },
   "outputs": [],
   "source": [
    "url = \"https://en.wikipedia.org/wiki/List_of_districts_and_neighborhoods_in_Los_Angeles\" \n",
    "data = requests.get(url).text \n",
    "soup = BeautifulSoup(data,\"html.parser\")"
   ]
  },
  {
   "cell_type": "code",
   "execution_count": null,
   "metadata": {
    "id": "Pjyz4ApFm1b-"
   },
   "outputs": [],
   "source": [
    "# This will need delimiters reset\n",
    "\n",
    "# Create a list \n",
    "# Find the table\n",
    "# Iterate\n",
    "# Ignore \"Not assigned\"\n",
    "# split, strip, clean, and label\n",
    "# append list\n",
    "\n",
    "\n",
    "table_contents=[]\n",
    "table=soup.find('table')\n",
    "for row in table.findAll('td'):\n",
    "    cell = {}\n",
    "    if row.span.text=='Not assigned':\n",
    "        pass\n",
    "    else:\n",
    "        cell['PostalCode'] = row.p.text[:3]\n",
    "        cell['Borough'] = (row.span.text).split('(')[0]\n",
    "        cell['Neighborhood'] = (((((row.span.text).split('(')[1]).strip(')')).replace(' /',',')).replace(')',' ')).strip(' ')\n",
    "        table_contents.append(cell)"
   ]
  },
  {
   "cell_type": "code",
   "execution_count": null,
   "metadata": {
    "id": "tycdCbv4m4ER"
   },
   "outputs": [],
   "source": [
    "# example if data shows up in an undesireable format\n",
    "# This cell may not be necessary \n",
    "# make names easier to read\n",
    "df=pd.DataFrame(table_contents)\n",
    "df['Borough']=df['Borough'].replace({'Downtown TorontoStn A PO Boxes25 The Esplanade':'Downtown Toronto Stn A',\n",
    "                                             'East TorontoBusiness reply mail Processing Centre969 Eastern':'East Toronto Business',\n",
    "                                             'EtobicokeNorthwest':'Etobicoke Northwest','East YorkEast Toronto':'East York/East Toronto',\n",
    "                                             'MississaugaCanada Post Gateway Processing Centre':'Mississauga'})"
   ]
  },
  {
   "cell_type": "markdown",
   "metadata": {
    "id": "fPwWwVQ2m6OA"
   },
   "source": [
    "### find lat and long for each neighborhood\n"
   ]
  },
  {
   "cell_type": "markdown",
   "metadata": {
    "id": "7b78Qlizm8c8"
   },
   "source": [
    "<div class=\"alert alert-block alert-info\">\n",
    "<b></b>This may be difficult if geocoder does not work\n",
    "</div>"
   ]
  },
  {
   "cell_type": "markdown",
   "metadata": {
    "id": "VSOM4LTOnDpt"
   },
   "source": [
    "## define a function to locate nearby venues\n"
   ]
  },
  {
   "cell_type": "code",
   "execution_count": null,
   "metadata": {
    "id": "F6Bfw8FynF6G"
   },
   "outputs": [],
   "source": [
    "def getNearbyVenues(Neighborhood, Latitude, Longitude, radius=500):\n",
    "    \n",
    "    venues_list=[]\n",
    "    for name, lat, lng in zip(Neighborhood, Latitude, Longitude):\n",
    "        print(name)\n",
    "            \n",
    "        # create the API request URL\n",
    "        url = 'https://api.foursquare.com/v2/venues/explore?&client_id={}&client_secret={}&v={}&ll={},{}&radius={}&limit={}'.format(\n",
    "            CLIENT_ID, \n",
    "            CLIENT_SECRET, \n",
    "            VERSION, \n",
    "            lat, \n",
    "            lng, \n",
    "            radius, \n",
    "            LIMIT)\n",
    "            \n",
    "        # make the GET request\n",
    "        results = requests.get(url).json()[\"response\"]['groups'][0]['items']\n",
    "        \n",
    "        # return only relevant information for each nearby venue\n",
    "        venues_list.append([(\n",
    "            name, \n",
    "            lat, \n",
    "            lng, \n",
    "            v['venue']['name'], \n",
    "            v['venue']['location']['lat'], \n",
    "            v['venue']['location']['lng'],  \n",
    "            v['venue']['categories'][0]['name']) for v in results])\n",
    "\n",
    "    nearby_venues = pd.DataFrame([item for venue_list in venues_list for item in venue_list])\n",
    "    nearby_venues.columns = ['Neighborhood', \n",
    "                  'Neighborhood Latitude', \n",
    "                  'Neighborhood Longitude', \n",
    "                  'Venue', \n",
    "                  'Venue Latitude', \n",
    "                  'Venue Longitude', \n",
    "                  'Venue Category']\n",
    "    \n",
    "    return(nearby_venues)"
   ]
  },
  {
   "cell_type": "code",
   "execution_count": null,
   "metadata": {
    "id": "Mhf6ZqlQnI76"
   },
   "outputs": [],
   "source": [
    "toronto_venues = getNearbyVenues(Neighborhood=df3['Neighborhood'],\n",
    "                                   Latitude=df3['Latitude'],\n",
    "                                   Longitude=df3['Longitude']\n",
    "                                  )"
   ]
  },
  {
   "cell_type": "code",
   "execution_count": null,
   "metadata": {
    "id": "gRkpae1jnLuK"
   },
   "outputs": [],
   "source": [
    "print(toronto_venues.shape)\n",
    "toronto_venues.head()"
   ]
  },
  {
   "cell_type": "code",
   "execution_count": null,
   "metadata": {
    "id": "Stm0gMntnNm0"
   },
   "outputs": [],
   "source": [
    "# how many nearby venues?\n",
    "# May need to change limit\n",
    "(toronto_venues.groupby(['Neighborhood']).size() \n",
    "   .sort_values(ascending=False) \n",
    "   .reset_index(name='count')) "
   ]
  },
  {
   "cell_type": "code",
   "execution_count": null,
   "metadata": {
    "id": "2Qe1Sg6vnPFW"
   },
   "outputs": [],
   "source": [
    "# Classify venues by category\n",
    "# one hot encoding\n",
    "toronto_onehot = pd.get_dummies(toronto_venues[['Venue Category']], prefix=\"\", prefix_sep=\"\")\n",
    "\n",
    "# add neighborhood column back to dataframe\n",
    "toronto_onehot['Neighborhood'] = toronto_venues['Neighborhood'] \n",
    "\n",
    "# move neighborhood column to the first column\n",
    "fixed_columns = [toronto_onehot.columns[-1]] + list(toronto_onehot.columns[:-1])\n",
    "toronto_onehot = toronto_onehot[fixed_columns]\n",
    "\n",
    "toronto_onehot.head()"
   ]
  },
  {
   "cell_type": "code",
   "execution_count": null,
   "metadata": {
    "id": "eqk2jc0UnQoS"
   },
   "outputs": [],
   "source": [
    "# Grouped by category\n",
    "toronto_grouped = toronto_onehot.groupby('Neighborhood').mean().reset_index()\n",
    "toronto_grouped"
   ]
  },
  {
   "cell_type": "markdown",
   "metadata": {
    "id": "dpKtawOHnS2r"
   },
   "source": [
    "# Choose category\n"
   ]
  },
  {
   "cell_type": "markdown",
   "metadata": {},
   "source": [
    "Mexican Restaraunts"
   ]
  },
  {
   "cell_type": "markdown",
   "metadata": {
    "id": "a91HahCAnUcY"
   },
   "source": [
    "# list of venues in category\n"
   ]
  },
  {
   "cell_type": "markdown",
   "metadata": {
    "id": "kjjPXvBDnWdn"
   },
   "source": [
    "### Define a function to iterate through time series for each venue\n"
   ]
  },
  {
   "cell_type": "code",
   "execution_count": null,
   "metadata": {
    "id": "FoW5guE3nZS6"
   },
   "outputs": [],
   "source": [
    "GET https://api.foursquare.com/v2/venues/timeseries\n"
   ]
  },
  {
   "cell_type": "markdown",
   "metadata": {
    "id": "Ykg4g5YpncGW"
   },
   "source": [
    "## Timeseries API Documentaion\n",
    "\n",
    "### Authentication\n",
    "User\trequired A valid OAuth access token in the query string of each request. Eg. &oauth_token=XXXX\n",
    "___\n",
    "### Parameters\n",
    "venueId\tAVNU234,AVNU567\tA comma-separated list of venue ids to retrieve series data for. The current user must be the manager of all venues specified.\n",
    "\n",
    "startAt\t1284286794\trequired. The start of the time range to retrieve stats for (seconds since epoch).\n",
    "\n",
    "endAt\t1284286794\tThe end of the time range to retrieve stats for (seconds since epoch). If omitted, the current time is assumed.\n",
    "\n",
    "fields\ttotalCheckins,newCheckins\tSpecifies which fields to return. May be one or more of totalCheckins, newCheckins, uniqueVisitors, sharing, genders, ages, hours, separated by commas.\n",
    "___\n",
    "### Response Fields\n",
    "venueId\tThe venue id\n",
    "\n",
    "date\tAn array of dates in the format yyyymmdd.\n",
    "\n",
    "totalCheckins\tAn array of total check-in counts, one item for each day in the given range (inclusive).\n",
    "\n",
    "newCheckins\tAn array of counts of new users visiting the venue, one item for each day in the given range (inclusive).\n",
    "\n",
    "shareTwitter\tAn array of counts of check-ins shared to Twitter.\n",
    "\n",
    "shareFacebook\tAn array of counts of check-ins shared to Facebook.\n",
    "\n",
    "male\tAn array of counts of check-ins where the user has specified their gender as male.\n",
    "\n",
    "female\tAn array of counts of check-ins where the user has specified their gender as female.\n",
    "\n",
    "ageXX-XX\tAn array of counts of check-ins where the user has specified their age in the given range. The provided ranges are 13-17, 18-24, 25-34, 35-44, 45-54, and 55+.\n",
    "___"
   ]
  },
  {
   "cell_type": "markdown",
   "metadata": {
    "id": "oCJi0YpznfIR"
   },
   "source": [
    "## Is the number of venues increasing or decreasing?\n"
   ]
  },
  {
   "cell_type": "markdown",
   "metadata": {
    "id": "jr_9LwYOnlPa"
   },
   "source": [
    "## Is the average rating for venues increasing or decreasing"
   ]
  },
  {
   "cell_type": "markdown",
   "metadata": {
    "id": "N14svSJvnmJm"
   },
   "source": [
    "## Can we pull census data to show population increase or decrease?"
   ]
  },
  {
   "cell_type": "markdown",
   "metadata": {
    "id": "GR9G2tNSnvLa"
   },
   "source": [
    "## Can we pull crime data in time series?"
   ]
  },
  {
   "cell_type": "markdown",
   "metadata": {
    "id": "cjNBXJVznxg7"
   },
   "source": [
    "## Can we pull employment data time series?"
   ]
  }
 ],
 "metadata": {
  "colab": {
   "collapsed_sections": [],
   "name": "Business Market Analysis.ipynb",
   "provenance": []
  },
  "kernelspec": {
   "display_name": "Python 3",
   "language": "python",
   "name": "python3"
  },
  "language_info": {
   "codemirror_mode": {
    "name": "ipython",
    "version": 3
   },
   "file_extension": ".py",
   "mimetype": "text/x-python",
   "name": "python",
   "nbconvert_exporter": "python",
   "pygments_lexer": "ipython3",
   "version": "3.8.3"
  }
 },
 "nbformat": 4,
 "nbformat_minor": 1
}
